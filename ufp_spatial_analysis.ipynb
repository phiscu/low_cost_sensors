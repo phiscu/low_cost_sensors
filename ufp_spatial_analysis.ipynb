{
 "cells": [
  {
   "cell_type": "markdown",
   "metadata": {
    "collapsed": false
   },
   "source": [
    "# Datenanalyse von Mess- und Flächennutzungsdaten             <img src=\"https://www.btelligent.com/fileadmin/_processed_/7/0/csm_data-science-ansatz_2350412d17.jpg\" style=\"max-width:20%\">\n"
   ]
  },
  {
   "cell_type": "markdown",
   "metadata": {
    "collapsed": false
   },
   "source": [
    "Zunächst importieren wir wieder die nötigen Pakete, definieren unseren Pfad (bzw. den Dateinnamen wenn im selben Ordner) und laden die CSV-Datei als Pandas-Dataframe."
   ]
  },
  {
   "cell_type": "code",
   "execution_count": 92,
   "metadata": {
    "collapsed": false
   },
   "outputs": [
    {
     "name": "stdout",
     "output_type": "stream",
     "text": [
      "   distance  Concentrat join_strassenklassen_strassenkl  \\\n",
      "0      50.0      6881.5                             III   \n",
      "1     150.0      7169.5                             III   \n",
      "2     250.0      6451.5                             III   \n",
      "3     350.0      6901.5                             III   \n",
      "4     450.0      5906.0                             III   \n",
      "\n",
      "   Joined layer_traff_norm_mean  \n",
      "0                      0.120633  \n",
      "1                      0.127050  \n",
      "2                      0.131300  \n",
      "3                      0.131300  \n",
      "4                      0.125500  \n"
     ]
    }
   ],
   "source": [
    "import pandas as pd\n",
    "import numpy as np\n",
    "\n",
    "path = \"your_qgis_output.csv\"\n",
    "\n",
    "data = pd.read_csv(path, sep = \",\")\n",
    "print(data.head())"
   ]
  },
  {
   "attachments": {
    "clipboard16.png": {
     "image/png": "[encoded data removed]"
    }
   },
   "cell_type": "markdown",
   "metadata": {
    "collapsed": false
   },
   "source": [
    "## Long data format        <img src=\"https://www.joyofdata.de/blog/wp-content/uploads/2012/11/Clipboard16.png\" style=\"max-width:100%\">\n",
    "\n",
    "\n",
    "Die Daten befinden sich momentan noch im sogenannten long data format. Wir werden sie in diesem weiterverarbeiten und anschließend in das wide data format umwandeln. Zum Unterschieden [hier](https://www.theanalysisfactor.com/wide-and-long-data/) noch eine kurze Erläuterung."
   ]
  },
  {
   "cell_type": "markdown",
   "metadata": {
    "collapsed": false
   },
   "source": [
    "Zunächst benennen wir die Spalten neu, um Missverständnisse zu vermeiden. **Solltet ihr von meiner Reihenfolge und Benennung abgewichen sein, passt die Benennung hier bitte an.**"
   ]
  },
  {
   "cell_type": "code",
   "execution_count": 93,
   "metadata": {
    "collapsed": false
   },
   "outputs": [
    {
     "name": "stdout",
     "output_type": "stream",
     "text": [
      "   trackpoint     ufp street_class  traffic_norm\n",
      "0        50.0  6881.5          III      0.120633\n",
      "1       150.0  7169.5          III      0.127050\n",
      "2       250.0  6451.5          III      0.131300\n",
      "3       350.0  6901.5          III      0.131300\n",
      "4       450.0  5906.0          III      0.125500\n"
     ]
    }
   ],
   "source": [
    "data.columns = ['trackpoint', 'ufp', 'street_class', 'traffic_norm']\n",
    "print(data.head())"
   ]
  },
  {
   "cell_type": "markdown",
   "metadata": {
    "collapsed": false
   },
   "source": [
    "# Analysen            <img src=\"https://upload.wikimedia.org/wikipedia/commons/thumb/0/05/Scikit_learn_logo_small.svg/200px-Scikit_learn_logo_small.svg.png\" style=\"max-width:100%\">\n",
    "In diesem Dataframe liegen nun alle Informationen vor, wie wir sie brauchen. Wir können also damit beginnen den Datensatz näher zu analysieren und Hypothesen zu untersuchen. Die folgenden Zeilen zeigen euch, wie ihr in Python mit den Paketen `scikit-learn` und `matplotlib` eine Regression durchführt. Ihr könnt hier aber auch bereits gelerntes aus der letzten Sitzung anwenden und den Datensatz auf weitere Hypothesen untersuchen.\n",
    "Zunächst schauen wir uns einen linearen Zusammenhang zwischen metrischen Daten an.\n",
    "\n",
    "**Beachte:** *Es handelt sich hier nicht um einen aufgehübschten Beispieldatensatz sondern um echte Messdaten, wie sie viele von euch auch erhalten werden. Wenn eure Plots also nicht aussehen wie aus dem Lehrbuch und auch die Statistiken eher enttäuschen seid ihr vermutlich auf dem richtigen Weg ;)*\n",
    "\n",
    "## Lineare Regression"
   ]
  },
  {
   "cell_type": "code",
   "execution_count": 94,
   "metadata": {
    "collapsed": false
   },
   "outputs": [],
   "source": [
    "import matplotlib.pyplot as plt\n",
    "from sklearn.linear_model import LinearRegression"
   ]
  },
  {
   "cell_type": "markdown",
   "metadata": {
    "collapsed": false
   },
   "source": [
    "Ein Blick auf die Spaltennamen gibt uns einen Überblick, welche Variablen wir miteinander vergleichen können."
   ]
  },
  {
   "cell_type": "code",
   "execution_count": 95,
   "metadata": {
    "collapsed": false
   },
   "outputs": [
    {
     "name": "stdout",
     "output_type": "stream",
     "text": [
      "['trackpoint' 'ufp' 'street_class' 'traffic_norm']\n"
     ]
    }
   ],
   "source": [
    "print(data.columns.values)"
   ]
  },
  {
   "cell_type": "markdown",
   "metadata": {
    "collapsed": false
   },
   "source": [
    "Der gemessene Ultrafeinstaubwert (`'ufp'`) wird also jeweils unsere abhängige Variable (oder \"Predictand\", `Y`) sein, das Verkehrsaufkommen oder dei Straßenklasse jeweils die unabhängige Variable (oder \"Predictor\", `X`). Da wir verschiedene Variablen betrachten wollen, schaffen wir hierfür eine separate Variable (`predictor`) und müssen im Anschluss noch nur diese ändern, um uns weitere Analysen ausgeben zu lassen. Wir beginnen mit dem Verkehrsaufkommen."
   ]
  },
  {
   "cell_type": "markdown",
   "source": [
    "Der Datensatz enthält noch ziemlich viele NaN, da wir ja nur für knapp die Hälfte der Messpunkte Verkehrsdaten haben. Für die Regression müssen wir diese Werte entfernen."
   ],
   "metadata": {
    "collapsed": false
   }
  },
  {
   "cell_type": "markdown",
   "source": [
    "Zunächst nutzen wir Boolean Indexing, um alle Zeilen zu markieren, in denen es keine UFP-Daten gibt (also wo `isna() = True` gilt)."
   ],
   "metadata": {
    "collapsed": false,
    "pycharm": {
     "name": "#%% md\n"
    }
   }
  },
  {
   "cell_type": "code",
   "execution_count": 96,
   "outputs": [
    {
     "name": "stdout",
     "output_type": "stream",
     "text": [
      "0      False\n",
      "1      False\n",
      "2      False\n",
      "3      False\n",
      "4      False\n",
      "       ...  \n",
      "449    False\n",
      "450    False\n",
      "451    False\n",
      "452    False\n",
      "453    False\n",
      "Name: ufp, Length: 454, dtype: bool\n"
     ]
    }
   ],
   "source": [
    "where_nan = data['ufp'].isna()\n",
    "print(where_nan)"
   ],
   "metadata": {
    "collapsed": false,
    "pycharm": {
     "name": "#%%\n"
    }
   }
  },
  {
   "cell_type": "markdown",
   "source": [
    "Nun erstellen wir ein Subset der Datentabelle, in der alle Zeilen Verkehrsdaten haben. Die `~` kehrt den Boolean Index dabei um: `NaN = False`. Da wir die vollständigen Daten nicht mehr brauchen überschreiben wir die Originaltabelle mit dem Subset (*von 454 auf 436 Zeilen*)."
   ],
   "metadata": {
    "collapsed": false
   }
  },
  {
   "cell_type": "code",
   "execution_count": 97,
   "outputs": [
    {
     "name": "stdout",
     "output_type": "stream",
     "text": [
      "     trackpoint      ufp street_class  traffic_norm\n",
      "0          50.0   6881.5          III      0.120633\n",
      "1         150.0   7169.5          III      0.127050\n",
      "2         250.0   6451.5          III      0.131300\n",
      "3         350.0   6901.5          III      0.131300\n",
      "4         450.0   5906.0          III      0.125500\n",
      "..          ...      ...          ...           ...\n",
      "449     45050.0   7275.0          III      0.114100\n",
      "450     45150.0   6101.0            V      0.124833\n",
      "451     45250.0  17187.0          III      0.132300\n",
      "452     45350.0  28066.0          III      0.127050\n",
      "453     45450.0   7064.0          III      0.127050\n",
      "\n",
      "[436 rows x 4 columns]\n"
     ]
    }
   ],
   "source": [
    "data = data[~where_nan]\n",
    "print(data)"
   ],
   "metadata": {
    "collapsed": false,
    "pycharm": {
     "name": "#%%\n"
    }
   }
  },
  {
   "cell_type": "markdown",
   "source": [
    "Für die Regressionsanalyse beginnen wir zunächst mit dem Verkehrsaufkommen."
   ],
   "metadata": {
    "collapsed": false
   }
  },
  {
   "cell_type": "code",
   "execution_count": 98,
   "outputs": [],
   "source": [
    "predictor = 'traffic_norm'"
   ],
   "metadata": {
    "collapsed": false,
    "pycharm": {
     "name": "#%%\n"
    }
   }
  },
  {
   "cell_type": "markdown",
   "source": [
    "Dafür filtern wir alle Zeilen, in denen es keine Verkehrsdaten gibt (*von 436 auf 211 Zeilen!*).\n",
    "\n",
    "**Beachte:** *Im Gegensatz zu den Flächenanteilen dürfen wir die Werte nicht 0 setzen! Dies würde bedeuten wir gehen überall, wo es keine Zählungen gab von keinem Verkehr aus, was die Regression massiv verfälschen würde.*"
   ],
   "metadata": {
    "collapsed": false,
    "pycharm": {
     "name": "#%% md\n"
    }
   }
  },
  {
   "cell_type": "code",
   "execution_count": 99,
   "outputs": [
    {
     "name": "stdout",
     "output_type": "stream",
     "text": [
      "     trackpoint      ufp street_class  traffic_norm\n",
      "0          50.0   6881.5          III      0.120633\n",
      "1         150.0   7169.5          III      0.127050\n",
      "2         250.0   6451.5          III      0.131300\n",
      "3         350.0   6901.5          III      0.131300\n",
      "4         450.0   5906.0          III      0.125500\n",
      "..          ...      ...          ...           ...\n",
      "449     45050.0   7275.0          III      0.114100\n",
      "450     45150.0   6101.0            V      0.124833\n",
      "451     45250.0  17187.0          III      0.132300\n",
      "452     45350.0  28066.0          III      0.127050\n",
      "453     45450.0   7064.0          III      0.127050\n",
      "\n",
      "[211 rows x 4 columns]\n"
     ]
    }
   ],
   "source": [
    "traffic_subset = data[~data['traffic_norm'].isna()]\n",
    "print(traffic_subset)"
   ],
   "metadata": {
    "collapsed": false,
    "pycharm": {
     "name": "#%%\n"
    }
   }
  },
  {
   "cell_type": "markdown",
   "metadata": {
    "collapsed": false
   },
   "source": [
    "Für die Regression-Funktionen müssen wir die zu untersuchenden Spalten in NumPy-Arrays umwandeln."
   ]
  },
  {
   "cell_type": "code",
   "execution_count": 100,
   "metadata": {
    "collapsed": false
   },
   "outputs": [],
   "source": [
    "X = traffic_subset.loc[:, predictor].values.reshape(-1, 1)\n",
    "Y = traffic_subset.loc[:, 'ufp'].values.reshape(-1, 1)"
   ]
  },
  {
   "cell_type": "markdown",
   "metadata": {
    "collapsed": false
   },
   "source": [
    "Im nächsten Schritt instanzieren wir die Datenklasse `LinearRegression`."
   ]
  },
  {
   "cell_type": "code",
   "execution_count": 101,
   "metadata": {
    "collapsed": false
   },
   "outputs": [],
   "source": [
    "linear_regressor = LinearRegression()"
   ]
  },
  {
   "cell_type": "markdown",
   "metadata": {
    "collapsed": false
   },
   "source": [
    "Nun trainieren wir unsere lineare Regression (`.fit`) und speichern alle Informationen über unseren Regressor (oder \"Predictor\") in der Variable `Y_pred`."
   ]
  },
  {
   "cell_type": "code",
   "execution_count": 102,
   "metadata": {
    "collapsed": false
   },
   "outputs": [],
   "source": [
    "linear_regressor.fit(X, Y)\n",
    "Y_pred = linear_regressor.predict(X)"
   ]
  },
  {
   "cell_type": "markdown",
   "metadata": {
    "collapsed": false
   },
   "source": [
    "Zunächst lassen wir uns das Ergebnis in einem Scatterplot mit der Regressionsgeraden anzeigen. Vereinfacht kann man sagen, die Regressionsgerade beschreibt die lineare Funktion (`Y = a*X + b`), mit der sich die Ultrafeinstaubkonzentration mittels des mittleren Verkehrsaufkommens im Umkreis von 100m um den Messpunkt vorhersagen lässt."
   ]
  },
  {
   "cell_type": "code",
   "execution_count": 103,
   "metadata": {
    "collapsed": false
   },
   "outputs": [
    {
     "data": {
      "text/plain": "<Figure size 432x288 with 1 Axes>",
      "image/png": "[encoded data removed]"
     },
     "metadata": {
      "needs_background": "light"
     },
     "output_type": "display_data"
    }
   ],
   "source": [
    "plt.scatter(X, Y)\n",
    "plt.plot(X, Y_pred, color='red')\n",
    "plt.xlabel(str('Mittleres Verkehrsaufkommen' + ' 100m um den Messpunkt'))\n",
    "plt.ylabel('UFP-Konzentration [#/cm^3]')\n",
    "plt.show()"
   ]
  },
  {
   "cell_type": "markdown",
   "metadata": {
    "collapsed": false
   },
   "source": [
    "Der Plot gibt uns eine Ahnung von der Verteilung der Messwerte und der Richtung und Stärke des Zusammenhangs. Wir erhalten aber keine Informationen über die Güte des linearen Modells. Darum lassen wir uns die `Funktion` des Modells und den Wert `R²` ausgeben. Letzterer gibt uns ein Maß für die Stärke des Zusammenhangs von X und Y."
   ]
  },
  {
   "cell_type": "code",
   "execution_count": 104,
   "metadata": {
    "collapsed": false
   },
   "outputs": [
    {
     "name": "stdout",
     "output_type": "stream",
     "text": [
      "------ Lineare Regression -----\n",
      "Funktion: y = 14184.115 * x + 5415.667\n",
      "R² Score: 0.19\n",
      "\n",
      "\n"
     ]
    }
   ],
   "source": [
    "print('------ Lineare Regression -----')\n",
    "print('Funktion: y = %.3f * x + %.3f' % (linear_regressor.coef_[0], linear_regressor.intercept_))\n",
    "print(\"R² Score: {:.2f}\".format(linear_regressor.score(X, Y)))\n",
    "print(\"\\n\")"
   ]
  },
  {
   "cell_type": "markdown",
   "metadata": {
    "collapsed": false,
    "pycharm": {
     "name": "#%% md\n"
    }
   },
   "source": [
    "Was sehen wir hier? Die Korrelation der Größen ist gering aber vorhanden. Probieren wir es mit einem weiteren Datensatz."
   ]
  },
  {
   "cell_type": "markdown",
   "source": [
    "## Lineare Regression mit ordinalen Prädiktoren\n",
    "\n",
    "Da die Straßenklassen ordinalskalierte Daten sind müssen wir hier mit entsprechenden Funktionen vorgehen."
   ],
   "metadata": {
    "collapsed": false
   }
  },
  {
   "cell_type": "code",
   "execution_count": 105,
   "outputs": [
    {
     "name": "stdout",
     "output_type": "stream",
     "text": [
      "     trackpoint     ufp street_class  traffic_norm\n",
      "21       2150.0  5218.5          NaN           NaN\n",
      "22       2250.0  5254.0          NaN           NaN\n",
      "23       2350.0  5080.0          NaN           NaN\n",
      "25       2550.0  4661.0          NaN           NaN\n",
      "26       2650.0  4751.0          NaN           NaN\n",
      "27       2750.0  4734.5          NaN           NaN\n",
      "28       2850.0  4782.0          NaN           NaN\n",
      "29       2950.0  4965.0          NaN           NaN\n",
      "30       3050.0  5044.5          NaN           NaN\n",
      "31       3150.0  5245.0          NaN           NaN\n",
      "32       3350.0  4303.5          NaN           NaN\n",
      "33       3450.0  4209.0          NaN           NaN\n",
      "34       3550.0  4279.0          NaN           NaN\n",
      "35       3650.0  4272.0          NaN           NaN\n",
      "37       3850.0  3727.0          NaN           NaN\n",
      "38       3950.0  3744.0          NaN           NaN\n",
      "40       4150.0  3680.0          NaN           NaN\n",
      "41       4250.0  3594.0          NaN           NaN\n",
      "42       4350.0  3438.0          NaN           NaN\n",
      "44       4550.0  3443.0          NaN           NaN\n",
      "45       4650.0  3448.0          NaN           NaN\n",
      "46       4750.0  2388.0          NaN           NaN\n",
      "47       4850.0  3545.0          NaN           NaN\n",
      "48       4950.0  3686.0          NaN           NaN\n",
      "49       5050.0  3931.5          NaN           NaN\n",
      "50       5150.0  3921.5          NaN           NaN\n",
      "107     10850.0  6769.0          NaN           NaN\n",
      "169     17050.0  7283.5          NaN           NaN\n",
      "170     17150.0  5823.0          NaN           NaN\n",
      "420     42150.0  5045.0          NaN           NaN\n",
      "421     42250.0  4917.0          NaN           NaN\n",
      "422     42350.0  4897.0          NaN           NaN\n",
      "423     42450.0  4834.0          NaN           NaN\n",
      "424     42550.0  4846.0          NaN           NaN\n",
      "425     42650.0  5013.0          NaN           NaN\n",
      "426     42750.0  4860.5          NaN           NaN\n",
      "427     42850.0  4990.0          NaN           NaN\n",
      "428     42950.0  4990.0          NaN           NaN\n"
     ]
    }
   ],
   "source": [
    "from sklearn.preprocessing import OneHotEncoder\n",
    "\n",
    "predictor = 'street_class'\n",
    "where_nan = data[predictor].isna()\n",
    "\n",
    "print(data[where_nan])"
   ],
   "metadata": {
    "collapsed": false,
    "pycharm": {
     "name": "#%%\n"
    }
   }
  },
  {
   "cell_type": "code",
   "execution_count": 106,
   "outputs": [
    {
     "name": "stdout",
     "output_type": "stream",
     "text": [
      "     trackpoint     ufp street_class  traffic_norm\n",
      "21       2150.0  5218.5    No_street           NaN\n",
      "22       2250.0  5254.0    No_street           NaN\n",
      "23       2350.0  5080.0    No_street           NaN\n",
      "25       2550.0  4661.0    No_street           NaN\n",
      "26       2650.0  4751.0    No_street           NaN\n",
      "27       2750.0  4734.5    No_street           NaN\n",
      "28       2850.0  4782.0    No_street           NaN\n",
      "29       2950.0  4965.0    No_street           NaN\n",
      "30       3050.0  5044.5    No_street           NaN\n",
      "31       3150.0  5245.0    No_street           NaN\n",
      "32       3350.0  4303.5    No_street           NaN\n",
      "33       3450.0  4209.0    No_street           NaN\n",
      "34       3550.0  4279.0    No_street           NaN\n",
      "35       3650.0  4272.0    No_street           NaN\n",
      "37       3850.0  3727.0    No_street           NaN\n",
      "38       3950.0  3744.0    No_street           NaN\n",
      "40       4150.0  3680.0    No_street           NaN\n",
      "41       4250.0  3594.0    No_street           NaN\n",
      "42       4350.0  3438.0    No_street           NaN\n",
      "44       4550.0  3443.0    No_street           NaN\n",
      "45       4650.0  3448.0    No_street           NaN\n",
      "46       4750.0  2388.0    No_street           NaN\n",
      "47       4850.0  3545.0    No_street           NaN\n",
      "48       4950.0  3686.0    No_street           NaN\n",
      "49       5050.0  3931.5    No_street           NaN\n",
      "50       5150.0  3921.5    No_street           NaN\n",
      "107     10850.0  6769.0    No_street           NaN\n",
      "169     17050.0  7283.5    No_street           NaN\n",
      "170     17150.0  5823.0    No_street           NaN\n",
      "420     42150.0  5045.0    No_street           NaN\n",
      "421     42250.0  4917.0    No_street           NaN\n",
      "422     42350.0  4897.0    No_street           NaN\n",
      "423     42450.0  4834.0    No_street           NaN\n",
      "424     42550.0  4846.0    No_street           NaN\n",
      "425     42650.0  5013.0    No_street           NaN\n",
      "426     42750.0  4860.5    No_street           NaN\n",
      "427     42850.0  4990.0    No_street           NaN\n",
      "428     42950.0  4990.0    No_street           NaN\n"
     ]
    }
   ],
   "source": [
    "data[predictor].fillna('No_street', inplace=True)\n",
    "\n",
    "print(data[where_nan])\n"
   ],
   "metadata": {
    "collapsed": false,
    "pycharm": {
     "name": "#%%\n"
    }
   }
  },
  {
   "cell_type": "code",
   "execution_count": 107,
   "outputs": [],
   "source": [
    "X = data.loc[:, predictor].values.reshape(-1, 1)\n",
    "Y = data.loc[:, 'ufp'].values.reshape(-1, 1)"
   ],
   "metadata": {
    "collapsed": false,
    "pycharm": {
     "name": "#%%\n"
    }
   }
  },
  {
   "cell_type": "code",
   "execution_count": 112,
   "outputs": [
    {
     "name": "stdout",
     "output_type": "stream",
     "text": [
      "Mean squared error: 10800103.81\n",
      "[12236.35       10221.22560976  7256.74427481  7133.42857143\n",
      "  4568.76315789  4849.0515873 ]\n",
      "0.0\n"
     ]
    }
   ],
   "source": [
    "enc = OneHotEncoder(sparse=False)\n",
    "X_trans = enc.fit_transform(X)\n",
    "\n",
    "linear_regressor = LinearRegression(fit_intercept=False)\n",
    "linear_regressor.fit(X_trans, Y)\n",
    "\n",
    "print(\"Mean squared error: %.2f\" % np.mean((linear_regressor.predict(X_trans) - Y) ** 2))\n",
    "\n",
    "print(linear_regressor.coef_[0])\n",
    "print(linear_regressor.intercept_)"
   ],
   "metadata": {
    "collapsed": false,
    "pycharm": {
     "name": "#%%\n"
    }
   }
  },
  {
   "cell_type": "code",
   "execution_count": 116,
   "outputs": [
    {
     "name": "stdout",
     "output_type": "stream",
     "text": [
      "     trackpoint      ufp street_class\n",
      "0          50.0   6881.5          III\n",
      "1         150.0   7169.5          III\n",
      "2         250.0   6451.5          III\n",
      "3         350.0   6901.5          III\n",
      "4         450.0   5906.0          III\n",
      "..          ...      ...          ...\n",
      "449     45050.0   7275.0          III\n",
      "450     45150.0   6101.0            V\n",
      "451     45250.0  17187.0          III\n",
      "452     45350.0  28066.0          III\n",
      "453     45450.0   7064.0          III\n",
      "\n",
      "[436 rows x 3 columns]\n",
      "     trackpoint      ufp street_class  traffic_norm\n",
      "0          50.0   6881.5          III      0.120633\n",
      "1         150.0   7169.5          III      0.127050\n",
      "2         250.0   6451.5          III      0.131300\n",
      "3         350.0   6901.5          III      0.131300\n",
      "4         450.0   5906.0          III      0.125500\n",
      "..          ...      ...          ...           ...\n",
      "449     45050.0   7275.0          III      0.114100\n",
      "450     45150.0   6101.0            V      0.124833\n",
      "451     45250.0  17187.0          III      0.132300\n",
      "452     45350.0  28066.0          III      0.127050\n",
      "453     45450.0   7064.0          III      0.127050\n",
      "\n",
      "[436 rows x 4 columns]\n"
     ]
    }
   ],
   "source": [
    "print(data.iloc[:, :-1])\n",
    "print(data.iloc[:, :])\n"
   ],
   "metadata": {
    "collapsed": false,
    "pycharm": {
     "name": "#%%\n"
    }
   }
  },
  {
   "cell_type": "code",
   "execution_count": 113,
   "outputs": [
    {
     "name": "stdout",
     "output_type": "stream",
     "text": [
      "------ Lineare Regression -----\n"
     ]
    },
    {
     "ename": "ValueError",
     "evalue": "could not convert string to float: 'III'",
     "output_type": "error",
     "traceback": [
      "\u001B[0;31m---------------------------------------------------------------------------\u001B[0m",
      "\u001B[0;31mValueError\u001B[0m                                Traceback (most recent call last)",
      "\u001B[0;32m<ipython-input-113-200923777b8f>\u001B[0m in \u001B[0;36m<module>\u001B[0;34m\u001B[0m\n\u001B[1;32m      1\u001B[0m \u001B[0mprint\u001B[0m\u001B[0;34m(\u001B[0m\u001B[0;34m'------ Lineare Regression -----'\u001B[0m\u001B[0;34m)\u001B[0m\u001B[0;34m\u001B[0m\u001B[0;34m\u001B[0m\u001B[0m\n\u001B[1;32m      2\u001B[0m \u001B[0;31m# print('Funktion: y = %.3f * x + %.3f' % (linear_regressor.coef_[0], linear_regressor.intercept_))\u001B[0m\u001B[0;34m\u001B[0m\u001B[0;34m\u001B[0m\u001B[0;34m\u001B[0m\u001B[0m\n\u001B[0;32m----> 3\u001B[0;31m \u001B[0mprint\u001B[0m\u001B[0;34m(\u001B[0m\u001B[0;34m\"R² Score: {:.2f}\"\u001B[0m\u001B[0;34m.\u001B[0m\u001B[0mformat\u001B[0m\u001B[0;34m(\u001B[0m\u001B[0mlinear_regressor\u001B[0m\u001B[0;34m.\u001B[0m\u001B[0mscore\u001B[0m\u001B[0;34m(\u001B[0m\u001B[0mX\u001B[0m\u001B[0;34m,\u001B[0m \u001B[0mY\u001B[0m\u001B[0;34m)\u001B[0m\u001B[0;34m)\u001B[0m\u001B[0;34m)\u001B[0m\u001B[0;34m\u001B[0m\u001B[0;34m\u001B[0m\u001B[0m\n\u001B[0m\u001B[1;32m      4\u001B[0m \u001B[0mprint\u001B[0m\u001B[0;34m(\u001B[0m\u001B[0;34m\"\\n\"\u001B[0m\u001B[0;34m)\u001B[0m\u001B[0;34m\u001B[0m\u001B[0;34m\u001B[0m\u001B[0m\n\u001B[1;32m      5\u001B[0m \u001B[0;34m\u001B[0m\u001B[0m\n",
      "\u001B[0;32m/usr/lib/python3/dist-packages/sklearn/base.py\u001B[0m in \u001B[0;36mscore\u001B[0;34m(self, X, y, sample_weight)\u001B[0m\n\u001B[1;32m    420\u001B[0m         \u001B[0;32mfrom\u001B[0m \u001B[0;34m.\u001B[0m\u001B[0mmetrics\u001B[0m \u001B[0;32mimport\u001B[0m \u001B[0mr2_score\u001B[0m\u001B[0;34m\u001B[0m\u001B[0;34m\u001B[0m\u001B[0m\n\u001B[1;32m    421\u001B[0m         \u001B[0;32mfrom\u001B[0m \u001B[0;34m.\u001B[0m\u001B[0mmetrics\u001B[0m\u001B[0;34m.\u001B[0m\u001B[0m_regression\u001B[0m \u001B[0;32mimport\u001B[0m \u001B[0m_check_reg_targets\u001B[0m\u001B[0;34m\u001B[0m\u001B[0;34m\u001B[0m\u001B[0m\n\u001B[0;32m--> 422\u001B[0;31m         \u001B[0my_pred\u001B[0m \u001B[0;34m=\u001B[0m \u001B[0mself\u001B[0m\u001B[0;34m.\u001B[0m\u001B[0mpredict\u001B[0m\u001B[0;34m(\u001B[0m\u001B[0mX\u001B[0m\u001B[0;34m)\u001B[0m\u001B[0;34m\u001B[0m\u001B[0;34m\u001B[0m\u001B[0m\n\u001B[0m\u001B[1;32m    423\u001B[0m         \u001B[0;31m# XXX: Remove the check in 0.23\u001B[0m\u001B[0;34m\u001B[0m\u001B[0;34m\u001B[0m\u001B[0;34m\u001B[0m\u001B[0m\n\u001B[1;32m    424\u001B[0m         \u001B[0my_type\u001B[0m\u001B[0;34m,\u001B[0m \u001B[0m_\u001B[0m\u001B[0;34m,\u001B[0m \u001B[0m_\u001B[0m\u001B[0;34m,\u001B[0m \u001B[0m_\u001B[0m \u001B[0;34m=\u001B[0m \u001B[0m_check_reg_targets\u001B[0m\u001B[0;34m(\u001B[0m\u001B[0my\u001B[0m\u001B[0;34m,\u001B[0m \u001B[0my_pred\u001B[0m\u001B[0;34m,\u001B[0m \u001B[0;32mNone\u001B[0m\u001B[0;34m)\u001B[0m\u001B[0;34m\u001B[0m\u001B[0;34m\u001B[0m\u001B[0m\n",
      "\u001B[0;32m/usr/lib/python3/dist-packages/sklearn/linear_model/_base.py\u001B[0m in \u001B[0;36mpredict\u001B[0;34m(self, X)\u001B[0m\n\u001B[1;32m    223\u001B[0m             \u001B[0mReturns\u001B[0m \u001B[0mpredicted\u001B[0m \u001B[0mvalues\u001B[0m\u001B[0;34m.\u001B[0m\u001B[0;34m\u001B[0m\u001B[0;34m\u001B[0m\u001B[0m\n\u001B[1;32m    224\u001B[0m         \"\"\"\n\u001B[0;32m--> 225\u001B[0;31m         \u001B[0;32mreturn\u001B[0m \u001B[0mself\u001B[0m\u001B[0;34m.\u001B[0m\u001B[0m_decision_function\u001B[0m\u001B[0;34m(\u001B[0m\u001B[0mX\u001B[0m\u001B[0;34m)\u001B[0m\u001B[0;34m\u001B[0m\u001B[0;34m\u001B[0m\u001B[0m\n\u001B[0m\u001B[1;32m    226\u001B[0m \u001B[0;34m\u001B[0m\u001B[0m\n\u001B[1;32m    227\u001B[0m     \u001B[0m_preprocess_data\u001B[0m \u001B[0;34m=\u001B[0m \u001B[0mstaticmethod\u001B[0m\u001B[0;34m(\u001B[0m\u001B[0m_preprocess_data\u001B[0m\u001B[0;34m)\u001B[0m\u001B[0;34m\u001B[0m\u001B[0;34m\u001B[0m\u001B[0m\n",
      "\u001B[0;32m/usr/lib/python3/dist-packages/sklearn/linear_model/_base.py\u001B[0m in \u001B[0;36m_decision_function\u001B[0;34m(self, X)\u001B[0m\n\u001B[1;32m    205\u001B[0m         \u001B[0mcheck_is_fitted\u001B[0m\u001B[0;34m(\u001B[0m\u001B[0mself\u001B[0m\u001B[0;34m)\u001B[0m\u001B[0;34m\u001B[0m\u001B[0;34m\u001B[0m\u001B[0m\n\u001B[1;32m    206\u001B[0m \u001B[0;34m\u001B[0m\u001B[0m\n\u001B[0;32m--> 207\u001B[0;31m         \u001B[0mX\u001B[0m \u001B[0;34m=\u001B[0m \u001B[0mcheck_array\u001B[0m\u001B[0;34m(\u001B[0m\u001B[0mX\u001B[0m\u001B[0;34m,\u001B[0m \u001B[0maccept_sparse\u001B[0m\u001B[0;34m=\u001B[0m\u001B[0;34m[\u001B[0m\u001B[0;34m'csr'\u001B[0m\u001B[0;34m,\u001B[0m \u001B[0;34m'csc'\u001B[0m\u001B[0;34m,\u001B[0m \u001B[0;34m'coo'\u001B[0m\u001B[0;34m]\u001B[0m\u001B[0;34m)\u001B[0m\u001B[0;34m\u001B[0m\u001B[0;34m\u001B[0m\u001B[0m\n\u001B[0m\u001B[1;32m    208\u001B[0m         return safe_sparse_dot(X, self.coef_.T,\n\u001B[1;32m    209\u001B[0m                                dense_output=True) + self.intercept_\n",
      "\u001B[0;32m/usr/lib/python3/dist-packages/sklearn/utils/validation.py\u001B[0m in \u001B[0;36mcheck_array\u001B[0;34m(array, accept_sparse, accept_large_sparse, dtype, order, copy, force_all_finite, ensure_2d, allow_nd, ensure_min_samples, ensure_min_features, warn_on_dtype, estimator)\u001B[0m\n\u001B[1;32m    529\u001B[0m                     \u001B[0marray\u001B[0m \u001B[0;34m=\u001B[0m \u001B[0marray\u001B[0m\u001B[0;34m.\u001B[0m\u001B[0mastype\u001B[0m\u001B[0;34m(\u001B[0m\u001B[0mdtype\u001B[0m\u001B[0;34m,\u001B[0m \u001B[0mcasting\u001B[0m\u001B[0;34m=\u001B[0m\u001B[0;34m\"unsafe\"\u001B[0m\u001B[0;34m,\u001B[0m \u001B[0mcopy\u001B[0m\u001B[0;34m=\u001B[0m\u001B[0;32mFalse\u001B[0m\u001B[0;34m)\u001B[0m\u001B[0;34m\u001B[0m\u001B[0;34m\u001B[0m\u001B[0m\n\u001B[1;32m    530\u001B[0m                 \u001B[0;32melse\u001B[0m\u001B[0;34m:\u001B[0m\u001B[0;34m\u001B[0m\u001B[0;34m\u001B[0m\u001B[0m\n\u001B[0;32m--> 531\u001B[0;31m                     \u001B[0marray\u001B[0m \u001B[0;34m=\u001B[0m \u001B[0mnp\u001B[0m\u001B[0;34m.\u001B[0m\u001B[0masarray\u001B[0m\u001B[0;34m(\u001B[0m\u001B[0marray\u001B[0m\u001B[0;34m,\u001B[0m \u001B[0morder\u001B[0m\u001B[0;34m=\u001B[0m\u001B[0morder\u001B[0m\u001B[0;34m,\u001B[0m \u001B[0mdtype\u001B[0m\u001B[0;34m=\u001B[0m\u001B[0mdtype\u001B[0m\u001B[0;34m)\u001B[0m\u001B[0;34m\u001B[0m\u001B[0;34m\u001B[0m\u001B[0m\n\u001B[0m\u001B[1;32m    532\u001B[0m             \u001B[0;32mexcept\u001B[0m \u001B[0mComplexWarning\u001B[0m\u001B[0;34m:\u001B[0m\u001B[0;34m\u001B[0m\u001B[0;34m\u001B[0m\u001B[0m\n\u001B[1;32m    533\u001B[0m                 raise ValueError(\"Complex data not supported\\n\"\n",
      "\u001B[0;32m/usr/local/lib/python3.8/dist-packages/numpy/core/_asarray.py\u001B[0m in \u001B[0;36masarray\u001B[0;34m(a, dtype, order)\u001B[0m\n\u001B[1;32m     81\u001B[0m \u001B[0;34m\u001B[0m\u001B[0m\n\u001B[1;32m     82\u001B[0m     \"\"\"\n\u001B[0;32m---> 83\u001B[0;31m     \u001B[0;32mreturn\u001B[0m \u001B[0marray\u001B[0m\u001B[0;34m(\u001B[0m\u001B[0ma\u001B[0m\u001B[0;34m,\u001B[0m \u001B[0mdtype\u001B[0m\u001B[0;34m,\u001B[0m \u001B[0mcopy\u001B[0m\u001B[0;34m=\u001B[0m\u001B[0;32mFalse\u001B[0m\u001B[0;34m,\u001B[0m \u001B[0morder\u001B[0m\u001B[0;34m=\u001B[0m\u001B[0morder\u001B[0m\u001B[0;34m)\u001B[0m\u001B[0;34m\u001B[0m\u001B[0;34m\u001B[0m\u001B[0m\n\u001B[0m\u001B[1;32m     84\u001B[0m \u001B[0;34m\u001B[0m\u001B[0m\n\u001B[1;32m     85\u001B[0m \u001B[0;34m\u001B[0m\u001B[0m\n",
      "\u001B[0;31mValueError\u001B[0m: could not convert string to float: 'III'"
     ]
    }
   ],
   "source": [
    "print('------ Lineare Regression -----')\n",
    "# print('Funktion: y = %.3f * x + %.3f' % (linear_regressor.coef_[0], linear_regressor.intercept_))\n",
    "print(\"R² Score: {:.2f}\".format(linear_regressor.score(X, Y)))\n",
    "print(\"\\n\")\n",
    "\n"
   ],
   "metadata": {
    "collapsed": false,
    "pycharm": {
     "name": "#%%\n"
    }
   }
  },
  {
   "cell_type": "code",
   "execution_count": null,
   "outputs": [],
   "source": [
    "# Kendalls tau und pearson zuerst, dann Regression\n",
    "# Normalverteilung? --> Bedingungen für lineare Regression checken!?\n",
    "# UFP auch in Klassen einteilen um Verteilung rauszubekommen\n",
    "\n",
    "\n"
   ],
   "metadata": {
    "collapsed": false,
    "pycharm": {
     "name": "#%%\n"
    }
   }
  }
 ],
 "metadata": {
  "kernelspec": {
   "display_name": "Python 3 (system-wide)",
   "language": "python",
   "metadata": {
    "cocalc": {
     "description": "Python 3 programming language",
     "priority": 100,
     "url": "https://www.python.org/"
    }
   },
   "name": "python3"
  },
  "language_info": {
   "codemirror_mode": {
    "name": "ipython",
    "version": 3
   },
   "file_extension": ".py",
   "mimetype": "text/x-python",
   "name": "python",
   "nbconvert_exporter": "python",
   "pygments_lexer": "ipython3",
   "version": "3.6.9"
  }
 },
 "nbformat": 4,
 "nbformat_minor": 4
}