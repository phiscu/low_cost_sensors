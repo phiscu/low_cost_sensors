{
 "cells": [
  {
   "cell_type": "markdown",
   "metadata": {},
   "source": [
    "# Datenanalyse von Mess- und Flächennutzungsdaten             <img src=\"https://www.btelligent.com/fileadmin/_processed_/7/0/csm_data-science-ansatz_2350412d17.jpg\" style=\"max-width:20%\">\n"
   ]
  },
  {
   "cell_type": "markdown",
   "metadata": {},
   "source": [
    "Zunächst importieren wir wieder die nötigen Pakete, definieren unseren Pfad (bzw. den Dateinnamen wenn im selben Ordner) und laden die CSV-Datei als Pandas-Dataframe."
   ]
  },
  {
   "cell_type": "code",
   "execution_count": 1,
   "metadata": {},
   "outputs": [
    {
     "name": "stdout",
     "output_type": "stream",
     "text": [
      "   distance  Concentrat  Conc-min  Conc_rel strassenkl    dtvw_kfz_m  \\\n",
      "0      50.0      6881.5    4494.0     0.985        III  13533.333333   \n",
      "1     150.0      7169.5    4782.0     1.026        III  14250.000000   \n",
      "2     250.0      6451.5    4064.0     0.924        III  15000.000000   \n",
      "3     350.0      6901.5    4514.0     0.988        III  15000.000000   \n",
      "4     450.0      5906.0    3518.0     0.846        III  15150.000000   \n",
      "\n",
      "   dtvw_lkw_m    traff_mean  traff_norm  \n",
      "0       630.0  18573.333333    0.120633  \n",
      "1       662.5  19550.000000    0.127050  \n",
      "2       650.0  20200.000000    0.131300  \n",
      "3       650.0  20200.000000    0.131300  \n",
      "4       520.0  19310.000000    0.125500  \n"
     ]
    }
   ],
   "source": [
    "import pandas as pd\n",
    "import numpy as np\n",
    "\n",
    "path = \"your_qgis_output.csv\"\n",
    "\n",
    "data = pd.read_csv(path, sep = \",\")\n",
    "print(data.head())"
   ]
  },
  {
   "attachments": {},
   "cell_type": "markdown",
   "metadata": {},
   "source": [
    "## Long data format        <img src=\"https://www.joyofdata.de/blog/wp-content/uploads/2012/11/Clipboard16.png\" style=\"max-width:100%\">\n",
    "\n",
    "\n",
    "Die Daten befinden sich momentan noch im sogenannten long data format. Wir werden sie in diesem weiterverarbeiten und anschließend in das wide data format umwandeln. Zum Unterschieden [hier](https://www.theanalysisfactor.com/wide-and-long-data/) noch eine kurze Erläuterung."
   ]
  },
  {
   "cell_type": "markdown",
   "metadata": {},
   "source": [
    "Zunächst benennen wir die Spalten neu, um Missverständnisse zu vermeiden. **Solltet ihr von meiner Reihenfolge und Benennung abgewichen sein, passt die Benennung hier bitte an.**"
   ]
  },
  {
   "cell_type": "code",
   "execution_count": 2,
   "metadata": {},
   "outputs": [
    {
     "ename": "ValueError",
     "evalue": "Length mismatch: Expected axis has 9 elements, new values have 4 elements",
     "output_type": "error",
     "traceback": [
      "\u001B[0;31m---------------------------------------------------------------------------\u001B[0m",
      "\u001B[0;31mValueError\u001B[0m                                Traceback (most recent call last)",
      "\u001B[0;32m<ipython-input-2-2d48930bb340>\u001B[0m in \u001B[0;36m<module>\u001B[0;34m\u001B[0m\n\u001B[0;32m----> 1\u001B[0;31m \u001B[0mdata\u001B[0m\u001B[0;34m.\u001B[0m\u001B[0mcolumns\u001B[0m \u001B[0;34m=\u001B[0m \u001B[0;34m[\u001B[0m\u001B[0;34m'trackpoint'\u001B[0m\u001B[0;34m,\u001B[0m \u001B[0;34m'ufp'\u001B[0m\u001B[0;34m,\u001B[0m \u001B[0;34m'street_class'\u001B[0m\u001B[0;34m,\u001B[0m \u001B[0;34m'traffic_norm'\u001B[0m\u001B[0;34m]\u001B[0m\u001B[0;34m\u001B[0m\u001B[0;34m\u001B[0m\u001B[0m\n\u001B[0m\u001B[1;32m      2\u001B[0m \u001B[0mprint\u001B[0m\u001B[0;34m(\u001B[0m\u001B[0mdata\u001B[0m\u001B[0;34m.\u001B[0m\u001B[0mhead\u001B[0m\u001B[0;34m(\u001B[0m\u001B[0;34m)\u001B[0m\u001B[0;34m)\u001B[0m\u001B[0;34m\u001B[0m\u001B[0;34m\u001B[0m\u001B[0m\n",
      "\u001B[0;32m~/.local/lib/python3.8/site-packages/pandas/core/generic.py\u001B[0m in \u001B[0;36m__setattr__\u001B[0;34m(self, name, value)\u001B[0m\n\u001B[1;32m   5476\u001B[0m         \u001B[0;32mtry\u001B[0m\u001B[0;34m:\u001B[0m\u001B[0;34m\u001B[0m\u001B[0;34m\u001B[0m\u001B[0m\n\u001B[1;32m   5477\u001B[0m             \u001B[0mobject\u001B[0m\u001B[0;34m.\u001B[0m\u001B[0m__getattribute__\u001B[0m\u001B[0;34m(\u001B[0m\u001B[0mself\u001B[0m\u001B[0;34m,\u001B[0m \u001B[0mname\u001B[0m\u001B[0;34m)\u001B[0m\u001B[0;34m\u001B[0m\u001B[0;34m\u001B[0m\u001B[0m\n\u001B[0;32m-> 5478\u001B[0;31m             \u001B[0;32mreturn\u001B[0m \u001B[0mobject\u001B[0m\u001B[0;34m.\u001B[0m\u001B[0m__setattr__\u001B[0m\u001B[0;34m(\u001B[0m\u001B[0mself\u001B[0m\u001B[0;34m,\u001B[0m \u001B[0mname\u001B[0m\u001B[0;34m,\u001B[0m \u001B[0mvalue\u001B[0m\u001B[0;34m)\u001B[0m\u001B[0;34m\u001B[0m\u001B[0;34m\u001B[0m\u001B[0m\n\u001B[0m\u001B[1;32m   5479\u001B[0m         \u001B[0;32mexcept\u001B[0m \u001B[0mAttributeError\u001B[0m\u001B[0;34m:\u001B[0m\u001B[0;34m\u001B[0m\u001B[0;34m\u001B[0m\u001B[0m\n\u001B[1;32m   5480\u001B[0m             \u001B[0;32mpass\u001B[0m\u001B[0;34m\u001B[0m\u001B[0;34m\u001B[0m\u001B[0m\n",
      "\u001B[0;32mpandas/_libs/properties.pyx\u001B[0m in \u001B[0;36mpandas._libs.properties.AxisProperty.__set__\u001B[0;34m()\u001B[0m\n",
      "\u001B[0;32m~/.local/lib/python3.8/site-packages/pandas/core/generic.py\u001B[0m in \u001B[0;36m_set_axis\u001B[0;34m(self, axis, labels)\u001B[0m\n\u001B[1;32m    668\u001B[0m     \u001B[0;32mdef\u001B[0m \u001B[0m_set_axis\u001B[0m\u001B[0;34m(\u001B[0m\u001B[0mself\u001B[0m\u001B[0;34m,\u001B[0m \u001B[0maxis\u001B[0m\u001B[0;34m:\u001B[0m \u001B[0mint\u001B[0m\u001B[0;34m,\u001B[0m \u001B[0mlabels\u001B[0m\u001B[0;34m:\u001B[0m \u001B[0mIndex\u001B[0m\u001B[0;34m)\u001B[0m \u001B[0;34m->\u001B[0m \u001B[0;32mNone\u001B[0m\u001B[0;34m:\u001B[0m\u001B[0;34m\u001B[0m\u001B[0;34m\u001B[0m\u001B[0m\n\u001B[1;32m    669\u001B[0m         \u001B[0mlabels\u001B[0m \u001B[0;34m=\u001B[0m \u001B[0mensure_index\u001B[0m\u001B[0;34m(\u001B[0m\u001B[0mlabels\u001B[0m\u001B[0;34m)\u001B[0m\u001B[0;34m\u001B[0m\u001B[0;34m\u001B[0m\u001B[0m\n\u001B[0;32m--> 670\u001B[0;31m         \u001B[0mself\u001B[0m\u001B[0;34m.\u001B[0m\u001B[0m_mgr\u001B[0m\u001B[0;34m.\u001B[0m\u001B[0mset_axis\u001B[0m\u001B[0;34m(\u001B[0m\u001B[0maxis\u001B[0m\u001B[0;34m,\u001B[0m \u001B[0mlabels\u001B[0m\u001B[0;34m)\u001B[0m\u001B[0;34m\u001B[0m\u001B[0;34m\u001B[0m\u001B[0m\n\u001B[0m\u001B[1;32m    671\u001B[0m         \u001B[0mself\u001B[0m\u001B[0;34m.\u001B[0m\u001B[0m_clear_item_cache\u001B[0m\u001B[0;34m(\u001B[0m\u001B[0;34m)\u001B[0m\u001B[0;34m\u001B[0m\u001B[0;34m\u001B[0m\u001B[0m\n\u001B[1;32m    672\u001B[0m \u001B[0;34m\u001B[0m\u001B[0m\n",
      "\u001B[0;32m~/.local/lib/python3.8/site-packages/pandas/core/internals/managers.py\u001B[0m in \u001B[0;36mset_axis\u001B[0;34m(self, axis, new_labels)\u001B[0m\n\u001B[1;32m    218\u001B[0m \u001B[0;34m\u001B[0m\u001B[0m\n\u001B[1;32m    219\u001B[0m         \u001B[0;32mif\u001B[0m \u001B[0mnew_len\u001B[0m \u001B[0;34m!=\u001B[0m \u001B[0mold_len\u001B[0m\u001B[0;34m:\u001B[0m\u001B[0;34m\u001B[0m\u001B[0;34m\u001B[0m\u001B[0m\n\u001B[0;32m--> 220\u001B[0;31m             raise ValueError(\n\u001B[0m\u001B[1;32m    221\u001B[0m                 \u001B[0;34mf\"Length mismatch: Expected axis has {old_len} elements, new \"\u001B[0m\u001B[0;34m\u001B[0m\u001B[0;34m\u001B[0m\u001B[0m\n\u001B[1;32m    222\u001B[0m                 \u001B[0;34mf\"values have {new_len} elements\"\u001B[0m\u001B[0;34m\u001B[0m\u001B[0;34m\u001B[0m\u001B[0m\n",
      "\u001B[0;31mValueError\u001B[0m: Length mismatch: Expected axis has 9 elements, new values have 4 elements"
     ]
    }
   ],
   "source": [
    "data.columns = ['trackpoint', 'ufp', 'street_class', 'traffic_norm']\n",
    "print(data.head())"
   ]
  },
  {
   "cell_type": "markdown",
   "metadata": {},
   "source": [
    "# Analysen            <img src=\"https://upload.wikimedia.org/wikipedia/commons/thumb/0/05/Scikit_learn_logo_small.svg/200px-Scikit_learn_logo_small.svg.png\" style=\"max-width:100%\">\n",
    "In diesem Dataframe liegen nun alle Informationen vor, wie wir sie brauchen. Wir können also damit beginnen den Datensatz näher zu analysieren und Hypothesen zu untersuchen. Die folgenden Zeilen zeigen euch, wie ihr in Python mit den Paketen `scikit-learn` und `matplotlib` eine Regression durchführt. Ihr könnt hier aber auch bereits gelerntes aus der letzten Sitzung anwenden und den Datensatz auf weitere Hypothesen untersuchen.\n",
    "Zunächst schauen wir uns einen linearen Zusammenhang zwischen metrischen Daten an.\n",
    "\n",
    "**Beachte:** *Es handelt sich hier nicht um einen aufgehübschten Beispieldatensatz sondern um echte Messdaten, wie sie viele von euch auch erhalten werden. Wenn eure Plots also nicht aussehen wie aus dem Lehrbuch und auch die Statistiken eher enttäuschen seid ihr vermutlich auf dem richtigen Weg ;)*\n",
    "\n",
    "## Lineare Regression"
   ]
  },
  {
   "cell_type": "code",
   "execution_count": 3,
   "metadata": {},
   "outputs": [],
   "source": [
    "import matplotlib.pyplot as plt\n",
    "from sklearn.linear_model import LinearRegression"
   ]
  },
  {
   "cell_type": "markdown",
   "metadata": {},
   "source": [
    "Ein Blick auf die Spaltennamen gibt uns einen Überblick, welche Variablen wir miteinander vergleichen können."
   ]
  },
  {
   "cell_type": "code",
   "execution_count": null,
   "metadata": {},
   "outputs": [],
   "source": [
    "print(data.columns.values)"
   ]
  },
  {
   "cell_type": "markdown",
   "metadata": {},
   "source": [
    "Der gemessene Ultrafeinstaubwert (`'ufp'`) wird also jeweils unsere abhängige Variable (oder \"Predictand\", `Y`) sein, das Verkehrsaufkommen oder dei Straßenklasse jeweils die unabhängige Variable (oder \"Predictor\", `X`). Da wir verschiedene Variablen betrachten wollen, schaffen wir hierfür eine separate Variable (`predictor`) und müssen im Anschluss noch nur diese ändern, um uns weitere Analysen ausgeben zu lassen. Wir beginnen mit dem Verkehrsaufkommen."
   ]
  },
  {
   "cell_type": "markdown",
   "metadata": {},
   "source": [
    "Der Datensatz enthält noch ziemlich viele NaN, da wir ja nur für knapp die Hälfte der Messpunkte Verkehrsdaten haben. Für die Regression müssen wir diese Werte entfernen."
   ]
  },
  {
   "cell_type": "markdown",
   "metadata": {
    "pycharm": {
     "name": "#%% md\n"
    }
   },
   "source": [
    "Zunächst nutzen wir Boolean Indexing, um alle Zeilen zu markieren, in denen es keine UFP-Daten gibt (also wo `isna() = True` gilt)."
   ]
  },
  {
   "cell_type": "code",
   "execution_count": null,
   "metadata": {
    "pycharm": {
     "name": "#%%\n"
    }
   },
   "outputs": [],
   "source": [
    "where_nan = data['ufp'].isna()\n",
    "print(where_nan)"
   ]
  },
  {
   "cell_type": "markdown",
   "metadata": {},
   "source": [
    "Nun erstellen wir ein Subset der Datentabelle, in der alle Zeilen Verkehrsdaten haben. Die `~` kehrt den Boolean Index dabei um: `NaN = False`. Da wir die vollständigen Daten nicht mehr brauchen überschreiben wir die Originaltabelle mit dem Subset (*von 454 auf 436 Zeilen*)."
   ]
  },
  {
   "cell_type": "code",
   "execution_count": null,
   "metadata": {
    "pycharm": {
     "name": "#%%\n"
    }
   },
   "outputs": [],
   "source": [
    "data = data[~where_nan]\n",
    "print(data)"
   ]
  },
  {
   "cell_type": "markdown",
   "metadata": {},
   "source": [
    "Für die Regressionsanalyse beginnen wir zunächst mit dem Verkehrsaufkommen."
   ]
  },
  {
   "cell_type": "code",
   "execution_count": null,
   "metadata": {
    "pycharm": {
     "name": "#%%\n"
    }
   },
   "outputs": [],
   "source": [
    "predictor = 'traffic_norm'"
   ]
  },
  {
   "cell_type": "markdown",
   "metadata": {
    "pycharm": {
     "name": "#%% md\n"
    }
   },
   "source": [
    "Dafür filtern wir alle Zeilen, in denen es keine Verkehrsdaten gibt (*von 436 auf 211 Zeilen!*).\n",
    "\n",
    "**Beachte:** *Im Gegensatz zu den Flächenanteilen dürfen wir die Werte nicht 0 setzen! Dies würde bedeuten wir gehen überall, wo es keine Zählungen gab von keinem Verkehr aus, was die Regression massiv verfälschen würde.*"
   ]
  },
  {
   "cell_type": "code",
   "execution_count": null,
   "metadata": {
    "pycharm": {
     "name": "#%%\n"
    }
   },
   "outputs": [],
   "source": [
    "traffic_subset = data[~data['traffic_norm'].isna()]\n",
    "print(traffic_subset)"
   ]
  },
  {
   "cell_type": "markdown",
   "metadata": {},
   "source": [
    "Für die Regression-Funktionen müssen wir die zu untersuchenden Spalten in NumPy-Arrays umwandeln."
   ]
  },
  {
   "cell_type": "code",
   "execution_count": null,
   "metadata": {},
   "outputs": [],
   "source": [
    "X = traffic_subset.loc[:, predictor].values.reshape(-1, 1)\n",
    "Y = traffic_subset.loc[:, 'ufp'].values.reshape(-1, 1)"
   ]
  },
  {
   "cell_type": "markdown",
   "metadata": {},
   "source": [
    "Im nächsten Schritt instanzieren wir die Datenklasse `LinearRegression`."
   ]
  },
  {
   "cell_type": "code",
   "execution_count": null,
   "metadata": {},
   "outputs": [],
   "source": [
    "linear_regressor = LinearRegression()"
   ]
  },
  {
   "cell_type": "markdown",
   "metadata": {},
   "source": [
    "Nun trainieren wir unsere lineare Regression (`.fit`) und speichern alle Informationen über unseren Regressor (oder \"Predictor\") in der Variable `Y_pred`."
   ]
  },
  {
   "cell_type": "code",
   "execution_count": null,
   "metadata": {},
   "outputs": [],
   "source": [
    "linear_regressor.fit(X, Y)\n",
    "Y_pred = linear_regressor.predict(X)"
   ]
  },
  {
   "cell_type": "markdown",
   "metadata": {},
   "source": [
    "Zunächst lassen wir uns das Ergebnis in einem Scatterplot mit der Regressionsgeraden anzeigen. Vereinfacht kann man sagen, die Regressionsgerade beschreibt die lineare Funktion (`Y = a*X + b`), mit der sich die Ultrafeinstaubkonzentration mittels des mittleren Verkehrsaufkommens im Umkreis von 100m um den Messpunkt vorhersagen lässt."
   ]
  },
  {
   "cell_type": "code",
   "execution_count": null,
   "metadata": {},
   "outputs": [],
   "source": [
    "plt.scatter(X, Y)\n",
    "plt.plot(X, Y_pred, color='red')\n",
    "plt.xlabel(str('Mittleres Verkehrsaufkommen' + ' 100m um den Messpunkt'))\n",
    "plt.ylabel('UFP-Konzentration [#/cm^3]')\n",
    "plt.show()"
   ]
  },
  {
   "cell_type": "markdown",
   "metadata": {},
   "source": [
    "Der Plot gibt uns eine Ahnung von der Verteilung der Messwerte und der Richtung und Stärke des Zusammenhangs. Wir erhalten aber keine Informationen über die Güte des linearen Modells. Darum lassen wir uns die `Funktion` des Modells und den Wert `R²` ausgeben. Letzterer gibt uns ein Maß für die Stärke des Zusammenhangs von X und Y."
   ]
  },
  {
   "cell_type": "code",
   "execution_count": null,
   "metadata": {},
   "outputs": [],
   "source": [
    "print('------ Lineare Regression -----')\n",
    "print('Funktion: y = %.3f * x + %.3f' % (linear_regressor.coef_[0], linear_regressor.intercept_))\n",
    "print(\"R² Score: {:.2f}\".format(linear_regressor.score(X, Y)))\n",
    "print(\"\\n\")"
   ]
  },
  {
   "cell_type": "markdown",
   "metadata": {
    "pycharm": {
     "name": "#%% md\n"
    }
   },
   "source": [
    "Was sehen wir hier? Die Korrelation der Größen ist gering aber vorhanden. Probieren wir es mit einem weiteren Datensatz."
   ]
  },
  {
   "cell_type": "markdown",
   "metadata": {},
   "source": [
    "## Lineare Regression mit ordinalen Prädiktoren\n",
    "\n",
    "Da die Straßenklassen ordinalskalierte Daten sind müssen wir hier mit entsprechenden Funktionen vorgehen."
   ]
  },
  {
   "cell_type": "code",
   "execution_count": null,
   "metadata": {
    "pycharm": {
     "name": "#%%\n"
    }
   },
   "outputs": [],
   "source": [
    "from sklearn.preprocessing import OneHotEncoder\n",
    "\n",
    "predictor = 'street_class'\n",
    "where_nan = data[predictor].isna()\n",
    "\n",
    "print(data[where_nan])"
   ]
  },
  {
   "cell_type": "code",
   "execution_count": null,
   "metadata": {
    "pycharm": {
     "name": "#%%\n"
    }
   },
   "outputs": [],
   "source": [
    "data[predictor].fillna('No_street', inplace=True)\n",
    "\n",
    "print(data[where_nan])\n"
   ]
  },
  {
   "cell_type": "code",
   "execution_count": null,
   "metadata": {
    "pycharm": {
     "name": "#%%\n"
    }
   },
   "outputs": [],
   "source": [
    "X = data.loc[:, predictor].values.reshape(-1, 1)\n",
    "Y = data.loc[:, 'ufp'].values.reshape(-1, 1)"
   ]
  },
  {
   "cell_type": "code",
   "execution_count": null,
   "metadata": {
    "pycharm": {
     "name": "#%%\n"
    }
   },
   "outputs": [],
   "source": [
    "enc = OneHotEncoder(sparse=False)\n",
    "X_trans = enc.fit_transform(X)\n",
    "\n",
    "linear_regressor = LinearRegression(fit_intercept=False)\n",
    "linear_regressor.fit(X_trans, Y)\n",
    "\n",
    "print(\"Mean squared error: %.2f\" % np.mean((linear_regressor.predict(X_trans) - Y) ** 2))\n",
    "\n",
    "print(linear_regressor.coef_[0])\n",
    "print(linear_regressor.intercept_)"
   ]
  },
  {
   "cell_type": "code",
   "execution_count": null,
   "metadata": {
    "pycharm": {
     "name": "#%%\n"
    }
   },
   "outputs": [],
   "source": [
    "print(data.iloc[:, :-1])\n",
    "print(data.iloc[:, :])\n"
   ]
  },
  {
   "cell_type": "code",
   "execution_count": null,
   "metadata": {
    "pycharm": {
     "name": "#%%\n"
    }
   },
   "outputs": [],
   "source": [
    "print('------ Lineare Regression -----')\n",
    "# print('Funktion: y = %.3f * x + %.3f' % (linear_regressor.coef_[0], linear_regressor.intercept_))\n",
    "print(\"R² Score: {:.2f}\".format(linear_regressor.score(X, Y)))\n",
    "print(\"\\n\")\n",
    "\n"
   ]
  },
  {
   "cell_type": "code",
   "execution_count": null,
   "metadata": {
    "pycharm": {
     "name": "#%%\n"
    }
   },
   "outputs": [],
   "source": [
    "# Kendalls tau und pearson zuerst, dann Regression\n",
    "# Normalverteilung? --> Bedingungen für lineare Regression checken!?\n",
    "# UFP auch in Klassen einteilen um Verteilung rauszubekommen\n",
    "\n",
    "\n"
   ]
  }
 ],
 "metadata": {
  "kernelspec": {
   "display_name": "Python 3",
   "language": "python",
   "name": "python3"
  },
  "language_info": {
   "codemirror_mode": {
    "name": "ipython",
    "version": 3
   },
   "file_extension": ".py",
   "mimetype": "text/x-python",
   "name": "python",
   "nbconvert_exporter": "python",
   "pygments_lexer": "ipython3",
   "version": "3.8.10"
  }
 },
 "nbformat": 4,
 "nbformat_minor": 4
}